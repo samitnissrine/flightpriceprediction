{
 "cells": [
  {
   "cell_type": "code",
   "execution_count": 5,
   "metadata": {},
   "outputs": [],
   "source": [
    "import pandas as pd\n",
    "from xgboost import XGBRegressor\n",
    "from sklearn.ensemble import RandomForestRegressor\n",
    "from sklearn.linear_model import LinearRegression, Lasso, Ridge, ElasticNet\n",
    "from sklearn.tree import DecisionTreeRegressor\n",
    "from sklearn.metrics import r2_score, mean_absolute_error, mean_squared_error"
   ]
  },
  {
   "cell_type": "code",
   "execution_count": 2,
   "metadata": {},
   "outputs": [
    {
     "data": {
      "text/html": [
       "<div>\n",
       "<style scoped>\n",
       "    .dataframe tbody tr th:only-of-type {\n",
       "        vertical-align: middle;\n",
       "    }\n",
       "\n",
       "    .dataframe tbody tr th {\n",
       "        vertical-align: top;\n",
       "    }\n",
       "\n",
       "    .dataframe thead th {\n",
       "        text-align: right;\n",
       "    }\n",
       "</style>\n",
       "<table border=\"1\" class=\"dataframe\">\n",
       "  <thead>\n",
       "    <tr style=\"text-align: right;\">\n",
       "      <th></th>\n",
       "      <th>Airline</th>\n",
       "      <th>stops</th>\n",
       "      <th>class</th>\n",
       "      <th>depature time</th>\n",
       "      <th>arrival time</th>\n",
       "      <th>Price</th>\n",
       "      <th>Days Left</th>\n",
       "      <th>Day of Week</th>\n",
       "      <th>Duration_log</th>\n",
       "      <th>Source_CMN</th>\n",
       "      <th>Source_IST</th>\n",
       "      <th>Source_LAX</th>\n",
       "      <th>Source_NRT</th>\n",
       "      <th>Source_PAR</th>\n",
       "      <th>Destination_CMN</th>\n",
       "      <th>Destination_IST</th>\n",
       "      <th>Destination_LAX</th>\n",
       "      <th>Destination_NRT</th>\n",
       "      <th>Destination_PAR</th>\n",
       "    </tr>\n",
       "  </thead>\n",
       "  <tbody>\n",
       "    <tr>\n",
       "      <th>0</th>\n",
       "      <td>12</td>\n",
       "      <td>2</td>\n",
       "      <td>1</td>\n",
       "      <td>2</td>\n",
       "      <td>4</td>\n",
       "      <td>6.987213</td>\n",
       "      <td>36</td>\n",
       "      <td>2</td>\n",
       "      <td>7.573017</td>\n",
       "      <td>True</td>\n",
       "      <td>False</td>\n",
       "      <td>False</td>\n",
       "      <td>False</td>\n",
       "      <td>False</td>\n",
       "      <td>False</td>\n",
       "      <td>False</td>\n",
       "      <td>False</td>\n",
       "      <td>True</td>\n",
       "      <td>False</td>\n",
       "    </tr>\n",
       "    <tr>\n",
       "      <th>1</th>\n",
       "      <td>36</td>\n",
       "      <td>1</td>\n",
       "      <td>1</td>\n",
       "      <td>1</td>\n",
       "      <td>5</td>\n",
       "      <td>5.858476</td>\n",
       "      <td>10</td>\n",
       "      <td>4</td>\n",
       "      <td>7.150701</td>\n",
       "      <td>False</td>\n",
       "      <td>True</td>\n",
       "      <td>False</td>\n",
       "      <td>False</td>\n",
       "      <td>False</td>\n",
       "      <td>True</td>\n",
       "      <td>False</td>\n",
       "      <td>False</td>\n",
       "      <td>False</td>\n",
       "      <td>False</td>\n",
       "    </tr>\n",
       "    <tr>\n",
       "      <th>2</th>\n",
       "      <td>78</td>\n",
       "      <td>0</td>\n",
       "      <td>1</td>\n",
       "      <td>4</td>\n",
       "      <td>0</td>\n",
       "      <td>6.403111</td>\n",
       "      <td>34</td>\n",
       "      <td>0</td>\n",
       "      <td>5.686975</td>\n",
       "      <td>False</td>\n",
       "      <td>True</td>\n",
       "      <td>False</td>\n",
       "      <td>False</td>\n",
       "      <td>False</td>\n",
       "      <td>True</td>\n",
       "      <td>False</td>\n",
       "      <td>False</td>\n",
       "      <td>False</td>\n",
       "      <td>False</td>\n",
       "    </tr>\n",
       "    <tr>\n",
       "      <th>3</th>\n",
       "      <td>83</td>\n",
       "      <td>1</td>\n",
       "      <td>0</td>\n",
       "      <td>4</td>\n",
       "      <td>4</td>\n",
       "      <td>8.327777</td>\n",
       "      <td>12</td>\n",
       "      <td>6</td>\n",
       "      <td>6.872128</td>\n",
       "      <td>False</td>\n",
       "      <td>False</td>\n",
       "      <td>False</td>\n",
       "      <td>False</td>\n",
       "      <td>True</td>\n",
       "      <td>False</td>\n",
       "      <td>False</td>\n",
       "      <td>False</td>\n",
       "      <td>True</td>\n",
       "      <td>False</td>\n",
       "    </tr>\n",
       "    <tr>\n",
       "      <th>4</th>\n",
       "      <td>18</td>\n",
       "      <td>3</td>\n",
       "      <td>1</td>\n",
       "      <td>4</td>\n",
       "      <td>5</td>\n",
       "      <td>6.653082</td>\n",
       "      <td>30</td>\n",
       "      <td>3</td>\n",
       "      <td>7.420579</td>\n",
       "      <td>False</td>\n",
       "      <td>False</td>\n",
       "      <td>True</td>\n",
       "      <td>False</td>\n",
       "      <td>False</td>\n",
       "      <td>False</td>\n",
       "      <td>True</td>\n",
       "      <td>False</td>\n",
       "      <td>False</td>\n",
       "      <td>False</td>\n",
       "    </tr>\n",
       "  </tbody>\n",
       "</table>\n",
       "</div>"
      ],
      "text/plain": [
       "   Airline  stops  class  depature time  arrival time     Price  Days Left  \\\n",
       "0       12      2      1              2             4  6.987213         36   \n",
       "1       36      1      1              1             5  5.858476         10   \n",
       "2       78      0      1              4             0  6.403111         34   \n",
       "3       83      1      0              4             4  8.327777         12   \n",
       "4       18      3      1              4             5  6.653082         30   \n",
       "\n",
       "   Day of Week  Duration_log  Source_CMN  Source_IST  Source_LAX  Source_NRT  \\\n",
       "0            2      7.573017        True       False       False       False   \n",
       "1            4      7.150701       False        True       False       False   \n",
       "2            0      5.686975       False        True       False       False   \n",
       "3            6      6.872128       False       False       False       False   \n",
       "4            3      7.420579       False       False        True       False   \n",
       "\n",
       "   Source_PAR  Destination_CMN  Destination_IST  Destination_LAX  \\\n",
       "0       False            False            False            False   \n",
       "1       False             True            False            False   \n",
       "2       False             True            False            False   \n",
       "3        True            False            False            False   \n",
       "4       False            False             True            False   \n",
       "\n",
       "   Destination_NRT  Destination_PAR  \n",
       "0             True            False  \n",
       "1            False            False  \n",
       "2            False            False  \n",
       "3             True            False  \n",
       "4            False            False  "
      ]
     },
     "execution_count": 2,
     "metadata": {},
     "output_type": "execute_result"
    }
   ],
   "source": [
    "data = pd.read_csv(\"../mydata/datafinal.csv\")\n",
    "data.head()"
   ]
  },
  {
   "cell_type": "code",
   "execution_count": 3,
   "metadata": {},
   "outputs": [],
   "source": [
    "Y = data['Price']\n",
    "X = data.drop(['Price'], axis=1)"
   ]
  },
  {
   "cell_type": "code",
   "execution_count": 4,
   "metadata": {},
   "outputs": [],
   "source": [
    "X_train, X_test, y_train, y_test = train_test_split(X,Y, test_size=0.2,random_state=42)"
   ]
  },
  {
   "cell_type": "code",
   "execution_count": 8,
   "metadata": {},
   "outputs": [],
   "source": [
    "models = {\n",
    "    'LinearRegression': LinearRegression(),\n",
    "    'Ridge': Ridge(),\n",
    "    'Randomforest': RandomForestRegressor(),\n",
    "    'xgboost': XGBRegressor(),\n",
    "    'DecisionTree': DecisionTreeRegressor() \n",
    "}\n"
   ]
  },
  {
   "cell_type": "code",
   "execution_count": 9,
   "metadata": {},
   "outputs": [
    {
     "name": "stdout",
     "output_type": "stream",
     "text": [
      "              Model       MSE       MAE  R2 Score\n",
      "0  LinearRegression  0.195606  0.351579  0.784013\n",
      "1             Ridge  0.195605  0.351577  0.784013\n",
      "2      Randomforest  0.025871  0.099597  0.971433\n",
      "3           xgboost  0.029922  0.124729  0.966960\n",
      "4      DecisionTree  0.044453  0.110299  0.950915\n"
     ]
    }
   ],
   "source": [
    "# Train and evaluate each model\n",
    "results = []\n",
    "for name, model in models.items():\n",
    "    model.fit(X_train, y_train)\n",
    "    y_pred = model.predict(X_test)\n",
    "    r2 = r2_score(y_test, y_pred)\n",
    "    mae = mean_absolute_error(y_test, y_pred)\n",
    "    mse = mean_squared_error(y_test, y_pred)\n",
    "    results.append({'Model': name, 'MSE': mse, 'MAE': mae, 'R2 Score': r2})\n",
    "\n",
    "# Create DataFrame to display results\n",
    "results_df = pd.DataFrame(results)\n",
    "\n",
    "# Display results\n",
    "print(results_df)"
   ]
  },
  {
   "cell_type": "markdown",
   "metadata": {},
   "source": [
    " Random Forest and XGBoost appear to be the best-performing models based on the provided evaluation metrics, with Random Forest slightly edging out XGBoost in terms of MSE and MAE."
   ]
  },
  {
   "cell_type": "markdown",
   "metadata": {},
   "source": [
    "Perform gridsearch to choose better parameters"
   ]
  },
  {
   "cell_type": "code",
   "execution_count": 10,
   "metadata": {},
   "outputs": [
    {
     "name": "stdout",
     "output_type": "stream",
     "text": [
      "              Model       MSE       MAE  R2 Score\n",
      "0  LinearRegression  0.195606  0.351579  0.784013\n",
      "1             Ridge  0.195605  0.351577  0.784013\n",
      "2      Randomforest  0.025984  0.099695  0.971308\n",
      "3           xgboost  0.025826  0.110790  0.971483\n"
     ]
    }
   ],
   "source": [
    "param_grid = {\n",
    "    'LinearRegression': {},\n",
    "    'Ridge': {'alpha': [0.1, 0.5, 1.0]},\n",
    "    'Randomforest': {'n_estimators': [50, 100, 200], 'max_depth': [None, 10, 20]},\n",
    "    'xgboost': {'n_estimators': [50, 100, 200], 'max_depth': [3, 5, 7]}\n",
    "}\n",
    "\n",
    "# Perform GridSearchCV for each model\n",
    "best_models = {}\n",
    "results = []\n",
    "for name, model in models.items():\n",
    "    if name in param_grid:\n",
    "        grid_search = GridSearchCV(model, param_grid[name], cv=5, scoring='neg_mean_squared_error', n_jobs=-1)\n",
    "        grid_search.fit(X_train, y_train)\n",
    "        best_models[name] = grid_search.best_estimator_\n",
    "        y_pred = best_models[name].predict(X_test)\n",
    "        r2 = r2_score(y_test, y_pred)\n",
    "        mse = mean_squared_error(y_test, y_pred)\n",
    "        mae = mean_absolute_error(y_test, y_pred)\n",
    "        results.append({'Model': name, 'MSE': mse, 'MAE': mae, 'R2 Score': r2})\n",
    "\n",
    "# Create DataFrame to display results\n",
    "grid_results_df = pd.DataFrame(results)\n",
    "\n",
    "# Display results\n",
    "print(grid_results_df)"
   ]
  },
  {
   "cell_type": "markdown",
   "metadata": {},
   "source": [
    "Linear Regression and Ridge Regression remain the same, indicating that the hyperparameter tuning did not significantly affect their performance.\n",
    "Both Random Forest and XGBoost models have slightly lower MSE and MAE values, indicating improved performance in terms of error metrics. Their R2 scores remain high, indicating good performance."
   ]
  },
  {
   "cell_type": "markdown",
   "metadata": {},
   "source": [
    "\n",
    "********************************************************************************************************************"
   ]
  },
  {
   "cell_type": "markdown",
   "metadata": {},
   "source": [
    "we choose Random Forest. why?\n",
    "\n",
    "Random Forest models tend to be more lightweight compared to XGBoost models. Random Forest is an ensemble method based on decision trees, and each decision tree in the ensemble is relatively simple compared to the boosted trees used in XGBoost. Additionally, Random Forest typically requires fewer hyperparameters to tune compared to XGBoost, which can simplify the model training process and reduce computational overhead."
   ]
  }
 ],
 "metadata": {
  "kernelspec": {
   "display_name": "env",
   "language": "python",
   "name": "python3"
  },
  "language_info": {
   "codemirror_mode": {
    "name": "ipython",
    "version": 3
   },
   "file_extension": ".py",
   "mimetype": "text/x-python",
   "name": "python",
   "nbconvert_exporter": "python",
   "pygments_lexer": "ipython3",
   "version": "3.11.4"
  }
 },
 "nbformat": 4,
 "nbformat_minor": 2
}
